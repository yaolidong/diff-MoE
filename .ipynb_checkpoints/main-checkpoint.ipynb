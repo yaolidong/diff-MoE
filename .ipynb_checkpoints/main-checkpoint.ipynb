{
 "cells": [
  {
   "cell_type": "code",
   "execution_count": null,
   "id": "2e4ffd52-1f90-425a-8953-661eb9b6dae4",
   "metadata": {},
   "outputs": [],
   "source": [
    "import torch\n",
    "import torch.optim as optim\n",
    "import numpy as np\n",
    "import random\n",
    "import import_ipynb\n",
    "from model import DualTowerModel\n",
    "from train import train\n",
    "#from test import test, visualize_predictions\n",
    "from data_loader import get_data_loaders, label_to_text, cifar10_label_to_text"
   ]
  },
  {
   "cell_type": "code",
   "execution_count": null,
   "id": "9d53d011-b11c-4ed0-9db4-fe38037f7132",
   "metadata": {},
   "outputs": [],
   "source": [
    "def set_seed(seed):\n",
    "    torch.manual_seed(seed)\n",
    "    torch.cuda.manual_seed_all(seed)\n",
    "    np.random.seed(seed)\n",
    "    random.seed(seed)\n",
    "    torch.backends.cudnn.deterministic = True\n",
    "    torch.backends.cudnn.benchmark = False\n"
   ]
  },
  {
   "cell_type": "code",
   "execution_count": null,
   "id": "96c9c75b",
   "metadata": {
    "scrolled": true
   },
   "outputs": [
    {
     "name": "stdout",
     "output_type": "stream",
     "text": [
      "Files already downloaded and verified\n",
      "Files already downloaded and verified\n",
      "请选择要使用的数据集：\n",
      "1. CIFAR10\n",
      "2. FashionMNIST\n"
     ]
    },
    {
     "name": "stdin",
     "output_type": "stream",
     "text": [
      "请输入选项（1或2）： 1\n"
     ]
    },
    {
     "name": "stdout",
     "output_type": "stream",
     "text": [
      "您选择了CIFAR10数据集\n"
     ]
    },
    {
     "name": "stderr",
     "output_type": "stream",
     "text": [
      "\n",
      "poch 1/10: 100%|█| 781/781 [01:41<00:00,  7.68it/s, Loss=1.91, Contrastive Loss=4.33, Image Classification Loss=1.74, "
     ]
    },
    {
     "name": "stdout",
     "output_type": "stream",
     "text": [
      "Epoch 1/10, Average Loss: 2.0849\n"
     ]
    },
    {
     "name": "stderr",
     "output_type": "stream",
     "text": [
      "Epoch 2/10:  82%|▊| 640/781 [01:22<00:17,  7.95it/s, Loss=1.96, Contrastive Loss=4.46, Image Classification Loss=1.78, "
     ]
    }
   ],
   "source": [
    "def main():\n",
    "    # 设置随机种子\n",
    "    set_seed(42)  # 您可以选择任何整数作为种子\n",
    "\n",
    "    # 设置超参数\n",
    "    epochs = 1\n",
    "    batch_size = 64\n",
    "    lr = 0.001\n",
    "    vocab_size = 30522\n",
    "    save_path = 'model.pth'\n",
    "    visualize = True  # 是否可视化预测结果\n",
    "\n",
    "    device = torch.device(\"cuda\" if torch.cuda.is_available() else \"cpu\")\n",
    "\n",
    "    # 初始化模型\n",
    "    model = DualTowerModel(vocab_size=vocab_size).to(device)\n",
    "\n",
    "    # 定义优化器\n",
    "    optimizer = optim.Adam(model.parameters(), lr=lr)\n",
    "\n",
    "    # 加载数据集\n",
    "    (fashion_train_loader, fashion_test_loader), (cifar_train_loader, cifar_test_loader) = get_data_loaders(batch_size)\n",
    "    # 选择数据集\n",
    "    print(\"请选择要使用的数据集：\")\n",
    "    print(\"1. CIFAR10\")\n",
    "    print(\"2. FashionMNIST\")\n",
    "    choice = input(\"请输入选项（1或2）：\")\n",
    "\n",
    "   "
   ]
  },
  {
   "cell_type": "code",
   "execution_count": null,
   "id": "478b5cc9-0ffe-4b07-b086-37bd5ddd5b67",
   "metadata": {},
   "outputs": [],
   "source": [
    " if choice == '1':\n",
    "        print(\"您选择了CIFAR10数据集\")\n",
    "        train_loader = cifar_train_loader\n",
    "        test_loader = cifar_test_loader\n",
    "        label_to_text_map = cifar10_label_to_text\n",
    "    elif choice == '2':\n",
    "        print(\"您选择了FashionMNIST数据集\")\n",
    "        train_loader = fashion_train_loader\n",
    "        test_loader = fashion_test_loader\n",
    "        label_to_text_map = label_to_text\n",
    "    else:\n",
    "        print(\"无效的选择，默认使用FashionMNIST数据集\")\n",
    "        train_loader = fashion_train_loader\n",
    "        test_loader = fashion_test_loader\n",
    "        label_to_text_map = label_to_text\n",
    "\n",
    "    # 训练模型\n",
    "    train(model, train_loader, optimizer, device, epochs, save_path) \n",
    "\n",
    "    # 测试模型\n",
    "    #test(model, test_loader, device, label_to_text_map)\n",
    "\n",
    "    # 可视化预测结果\n",
    "    # if visualize:\n",
    "    #     visualize_predictions(model, test_loader, device, label_to_text_map)\n",
    "\n",
    "if __name__ == \"__main__\":\n",
    "    main()\n"
   ]
  },
  {
   "cell_type": "code",
   "execution_count": null,
   "id": "3beba27d-3a7e-4b47-8db1-c87cef3ba4fe",
   "metadata": {},
   "outputs": [],
   "source": []
  },
  {
   "cell_type": "code",
   "execution_count": null,
   "id": "80bf02f7-867a-4d7e-84a3-27bae7f59093",
   "metadata": {},
   "outputs": [],
   "source": []
  }
 ],
 "metadata": {
  "kernelspec": {
   "display_name": "ipynb",
   "language": "python",
   "name": "ipynb"
  },
  "language_info": {
   "codemirror_mode": {
    "name": "ipython",
    "version": 3
   },
   "file_extension": ".py",
   "mimetype": "text/x-python",
   "name": "python",
   "nbconvert_exporter": "python",
   "pygments_lexer": "ipython3",
   "version": "3.9.20"
  }
 },
 "nbformat": 4,
 "nbformat_minor": 5
}
