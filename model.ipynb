{
 "cells": [
  {
   "cell_type": "code",
   "execution_count": 1,
   "id": "ebdf0dce",
   "metadata": {},
   "outputs": [
    {
     "ename": "ModuleNotFoundError",
     "evalue": "No module named 'moe_encoders'",
     "output_type": "error",
     "traceback": [
      "\u001b[1;31m---------------------------------------------------------------------------\u001b[0m",
      "\u001b[1;31mModuleNotFoundError\u001b[0m                       Traceback (most recent call last)",
      "Cell \u001b[1;32mIn[1], line 4\u001b[0m\n\u001b[0;32m      2\u001b[0m \u001b[38;5;28;01mimport\u001b[39;00m \u001b[38;5;21;01mtorch\u001b[39;00m\n\u001b[0;32m      3\u001b[0m \u001b[38;5;28;01mimport\u001b[39;00m \u001b[38;5;21;01mtorch\u001b[39;00m\u001b[38;5;21;01m.\u001b[39;00m\u001b[38;5;21;01mnn\u001b[39;00m \u001b[38;5;28;01mas\u001b[39;00m \u001b[38;5;21;01mnn\u001b[39;00m\n\u001b[1;32m----> 4\u001b[0m \u001b[38;5;28;01mfrom\u001b[39;00m \u001b[38;5;21;01mmoe_encoders\u001b[39;00m \u001b[38;5;28;01mimport\u001b[39;00m ImageMoE, TextMoE \n\u001b[0;32m      5\u001b[0m \u001b[38;5;28;01mfrom\u001b[39;00m \u001b[38;5;21;01mcross_attention\u001b[39;00m \u001b[38;5;28;01mimport\u001b[39;00m CrossAttention\n\u001b[0;32m      6\u001b[0m \u001b[38;5;28;01mfrom\u001b[39;00m \u001b[38;5;21;01mTextDecoder\u001b[39;00m \u001b[38;5;28;01mimport\u001b[39;00m TextDecoder\n",
      "\u001b[1;31mModuleNotFoundError\u001b[0m: No module named 'moe_encoders'"
     ]
    }
   ],
   "source": [
    "import import_ipynb\n",
    "import torch\n",
    "import torch.nn as nn\n",
    "from moe_encoders import ImageMoE, TextMoE \n",
    "from cross_attention import CrossAttention\n",
    "from TextDecoder import TextDecoder"
   ]
  },
  {
   "cell_type": "code",
   "execution_count": null,
   "id": "4e2235cc",
   "metadata": {},
   "outputs": [],
   "source": [
    "class DualTowerModel(nn.Module):\n",
    "    def __init__(self, vocab_size, output_dim=1024, n_head=8, num_classes=10, max_text_length=16):\n",
    "        super().__init__()\n",
    "        # 增加图像backbone的复杂度\n",
    "        self.image_tower = ImageMoE(\n",
    "            img_size=32,\n",
    "            patch_size=4,\n",
    "            in_channels=3,\n",
    "            embed_dim=1024,\n",
    "            num_experts=16,  # 增加专家数量\n",
    "            top_k=4  # 增加每个token使用的专家数\n",
    "        )\n",
    "        \n",
    "        # 增加文本编码器的复杂度\n",
    "        self.text_tower = TextMoE(\n",
    "            vocab_size,\n",
    "            seq_length=16,\n",
    "            embed_dim=1024,\n",
    "            num_experts=16,\n",
    "            top_k=4\n",
    "        )\n",
    "        \n",
    "        # 添加更复杂的跨模态融合层\n",
    "        self.fusion_layer = nn.Sequential(\n",
    "            nn.Linear(output_dim * 2, output_dim * 2),\n",
    "            nn.LayerNorm(output_dim * 2),\n",
    "            nn.ReLU(),\n",
    "            nn.Dropout(0.2),\n",
    "            nn.Linear(output_dim * 2, output_dim),\n",
    "            nn.LayerNorm(output_dim),\n",
    "            nn.ReLU(),\n",
    "            nn.Dropout(0.1)\n",
    "        )"
   ]
  },
  {
   "cell_type": "code",
   "execution_count": null,
   "id": "3b2ee501",
   "metadata": {},
   "outputs": [],
   "source": [
    "def forward(self, images, input_ids, attention_mask):\n",
    "        # 获取基础特征\n",
    "        first_image_output, second_image_output, image_feature_vector, image_cls, (first_expert_outputs, second_expert_outputs), (first_gating_output, second_gating_output) = self.image_tower(images)\n",
    "        first_text_output, second_text_output, text_feature_vector, text_cls = self.text_tower(input_ids, attention_mask)\n",
    "        \n",
    "        # 跨模态注意力\n",
    "        img2text_features = self.img2text_attention(text_feature_vector, image_feature_vector)\n",
    "        text2img_features = self.text2img_attention(image_feature_vector, text_feature_vector)\n",
    "        \n",
    "        # 特征融合\n",
    "        fused_features = self.fusion_layer(torch.cat([img2text_features, text2img_features], dim=-1))\n",
    "        \n",
    "        # 解码文本\n",
    "        text_reconstruction = self.text_decoder(fused_features, input_ids)\n",
    "        \n",
    "        # 分类预测\n",
    "        fused_cls = self.classifier(fused_features)\n",
    "        \n",
    "        return (\n",
    "            image_feature_vector, text_feature_vector, \n",
    "            image_cls, text_cls, fused_cls,\n",
    "            text_reconstruction,\n",
    "            (first_expert_outputs, second_expert_outputs), \n",
    "            (first_gating_output, second_gating_output)\n",
    "        )"
   ]
  },
  {
   "cell_type": "code",
   "execution_count": null,
   "id": "7e1e51fd-3cf7-48f9-abc1-b277c6aba4db",
   "metadata": {},
   "outputs": [],
   "source": []
  }
 ],
 "metadata": {
  "kernelspec": {
   "display_name": "ipynb",
   "language": "python",
   "name": "ipynb"
  },
  "language_info": {
   "codemirror_mode": {
    "name": "ipython",
    "version": 3
   },
   "file_extension": ".py",
   "mimetype": "text/x-python",
   "name": "python",
   "nbconvert_exporter": "python",
   "pygments_lexer": "ipython3",
   "version": "3.9.20"
  }
 },
 "nbformat": 4,
 "nbformat_minor": 5
}
