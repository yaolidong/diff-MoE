{
 "cells": [
  {
   "cell_type": "code",
   "execution_count": 2,
   "id": "ebdf0dce",
   "metadata": {},
   "outputs": [],
   "source": [
    "import import_ipynb\n",
    "import torch\n",
    "import torch.nn as nn\n",
    "from moe_encoders import ImageMoE, TextMoE \n",
    "from cross_attention import CrossAttention\n",
    "\n",
    "\n",
    "class DualTowerModel(nn.Module):\n",
    "    def __init__(self, vocab_size, output_dim=1024, n_head=8, num_classes=10):\n",
    "        super().__init__()\n",
    "        self.image_tower = ImageMoE()\n",
    "        self.text_tower = TextMoE(vocab_size)\n",
    "        self.cross_attention = CrossAttention(output_dim, n_head)\n",
    "\n",
    "        self.classifier = nn.Linear(output_dim, num_classes)      # 从1024->10\n",
    "\n",
    "    def forward(self, images, input_ids, attention_mask):\n",
    "        first_image_output, second_image_output, image_feature_vector, image_cls, (first_expert_outputs, second_expert_outputs), (first_gating_output, second_gating_output) = self.image_tower(images)\n",
    "        first_text_output, second_text_output, text_feature_vector, text_cls = self.text_tower(input_ids, attention_mask)\n",
    "        \n",
    "        # # 应用交叉注意力\n",
    "        # cross_attention_output = self.cross_attention(image_feature_vector, text_feature_vector)\n",
    "        \n",
    "        # # 确保维度正确\n",
    "        # cross_attention_output = cross_attention_output.mean(dim=1)  # 平均池化，得到 [batch_size, output_dim]\n",
    "        # classification_output = self.classifier(cross_attention_output)        # [batch_size, num_classes]\n",
    "        \n",
    "        return image_feature_vector, text_feature_vector, image_cls, text_cls,  (first_expert_outputs, second_expert_outputs), (first_gating_output, second_gating_output)\n"
   ]
  },
  {
   "cell_type": "code",
   "execution_count": null,
   "id": "7e1e51fd-3cf7-48f9-abc1-b277c6aba4db",
   "metadata": {},
   "outputs": [],
   "source": []
  }
 ],
 "metadata": {
  "kernelspec": {
   "display_name": "Python 3 (ipykernel)",
   "language": "python",
   "name": "python3"
  },
  "language_info": {
   "codemirror_mode": {
    "name": "ipython",
    "version": 3
   },
   "file_extension": ".py",
   "mimetype": "text/x-python",
   "name": "python",
   "nbconvert_exporter": "python",
   "pygments_lexer": "ipython3",
   "version": "3.9.20"
  }
 },
 "nbformat": 4,
 "nbformat_minor": 5
}
