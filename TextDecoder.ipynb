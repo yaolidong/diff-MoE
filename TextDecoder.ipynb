{
 "cells": [
  {
   "cell_type": "code",
   "execution_count": null,
   "id": "2fa7b0a6",
   "metadata": {},
   "outputs": [],
   "source": [
    "import torch\n",
    "import torch.nn as nn\n",
    "\n",
    "class TextDecoder(nn.Module):\n",
    "    def __init__(self, input_dim, vocab_size, max_length):\n",
    "        super().__init__()\n",
    "        self.embedding = nn.Embedding(vocab_size, input_dim)\n",
    "        self.rnn = nn.GRU(input_dim, input_dim, batch_first=True)\n",
    "        self.fc = nn.Linear(input_dim, vocab_size)\n",
    "        self.max_length = max_length\n",
    "\n",
    "    def forward(self, x, target=None):\n",
    "        batch_size = x.size(0)\n",
    "        if target is None:\n",
    "            target = torch.zeros(batch_size, self.max_length, dtype=torch.float, device=x.device)\n",
    "        \n",
    "        embedded = self.embedding(target)\n",
    "        output, _ = self.rnn(embedded, x.unsqueeze(0))\n",
    "        logits = self.fc(output)\n",
    "        \n",
    "        # 确保输出的形状是 (batch_size, max_length, vocab_size)\n",
    "        return logits.view(batch_size, self.max_length, -1)\n"
   ]
  }
 ],
 "metadata": {},
 "nbformat": 4,
 "nbformat_minor": 5
}
