{
 "cells": [
  {
   "cell_type": "code",
   "execution_count": null,
   "id": "2fa7b0a6",
   "metadata": {},
   "outputs": [],
   "source": [
    "# TextDecoder.py\n",
    "import torch\n",
    "import torch.nn as nn\n",
    "\n",
    "class TextDecoder(nn.Module):\n",
    "    def __init__(self, input_dim, vocab_size, max_length):\n",
    "        super().__init__()\n",
    "        self.embedding = nn.Embedding(vocab_size, input_dim)\n",
    "        self.rnn = nn.GRU(input_dim, input_dim, batch_first=True)\n",
    "        self.fc = nn.Linear(input_dim, vocab_size)\n",
    "        self.max_length = max_length\n",
    "\n",
    "    def forward(self, x, target=None):\n",
    "        batch_size = x.size(0)\n",
    "        if target is None:\n",
    "            target = torch.zeros(batch_size, self.max_length, dtype=torch.long, device=x.device)\n",
    "        \n",
    "        embedded = self.embedding(target)\n",
    "        output, _ = self.rnn(embedded, x.unsqueeze(0))\n",
    "        logits = self.fc(output)\n",
    "        return logits\n"
   ]
  }
 ],
 "metadata": {
  "language_info": {
   "name": "python"
  }
 },
 "nbformat": 4,
 "nbformat_minor": 5
}
