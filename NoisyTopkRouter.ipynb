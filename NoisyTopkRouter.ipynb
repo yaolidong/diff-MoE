{
 "cells": [
  {
   "cell_type": "code",
   "execution_count": null,
   "id": "ac2642ce",
   "metadata": {},
   "outputs": [],
   "source": [
    "import torch\n",
    "import torch.nn as nn\n",
    "import torch.nn.functional as F\n",
    "\n",
    "class NoisyTopkRouter(nn.Module):\n",
    "    def __init__(self, n_embd, top_k, num_experts):\n",
    "        super(NoisyTopkRouter, self).__init__()\n",
    "        self.top_k = top_k\n",
    "        self.topkroute_linear = nn.Linear(n_embd, num_experts)\n",
    "        self.noisy_topk = nn.Linear(n_embd, num_experts)\n",
    "\n",
    "    def forward(self, mh_output):\n",
    "        logits = self.topkroute_linear(mh_output)\n",
    "        noise_logits = self.noisy_topk(mh_output)\n",
    "\n",
    "        noise = torch.randn_like(logits) * F.softplus(noise_logits)\n",
    "        # softplus 是一个平滑函数,使得输出值在0到正无穷之间 softplus(x) = ln(1+exp(x))\n",
    "\n",
    "        noisy_logits = logits + noise\n",
    "\n",
    "        top_k_logits, indices = noisy_logits.topk(self.top_k, dim=-1)\n",
    "        zeros = torch.full_like(noisy_logits, float('-inf'))\n",
    "        sparse_logits = zeros.scatter(-1, indices, top_k_logits)\n",
    "        router_output = F.softmax(sparse_logits, dim=-1)\n",
    "        return router_output, indices"
   ]
  }
 ],
 "metadata": {},
 "nbformat": 4,
 "nbformat_minor": 5
}
