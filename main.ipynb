{
 "cells": [
  {
   "cell_type": "code",
   "execution_count": 7,
   "id": "fedab224",
   "metadata": {},
   "outputs": [
    {
     "name": "stdout",
     "output_type": "stream",
     "text": [
      "D:\\Anaconda\\envs\\ipynb\\python.exe\n",
      "['D:\\\\Anaconda\\\\envs\\\\ipynb\\\\python39.zip', 'D:\\\\Anaconda\\\\envs\\\\ipynb\\\\DLLs', 'D:\\\\Anaconda\\\\envs\\\\ipynb\\\\lib', 'D:\\\\Anaconda\\\\envs\\\\ipynb', '', 'D:\\\\Anaconda\\\\envs\\\\ipynb\\\\lib\\\\site-packages', 'D:\\\\Anaconda\\\\envs\\\\ipynb\\\\lib\\\\site-packages\\\\win32', 'D:\\\\Anaconda\\\\envs\\\\ipynb\\\\lib\\\\site-packages\\\\win32\\\\lib', 'D:\\\\Anaconda\\\\envs\\\\ipynb\\\\lib\\\\site-packages\\\\Pythonwin']\n"
     ]
    }
   ],
   "source": [
    "# 这些代码会在远程服务器环境中执行\n",
    "import sys\n",
    "print(sys.executable)  # 会显示远程服务器上的Python路径\n",
    "print(sys.path)       # 会显示远程服务器上的Python搜索路径"
   ]
  },
  {
   "cell_type": "code",
   "execution_count": 34,
   "id": "77c9ce76",
   "metadata": {},
   "outputs": [
    {
     "ename": "FileNotFoundError",
     "evalue": "[WinError 2] 系统找不到指定的文件。: 'C:\\\\Users\\\\Administrator\\\\Documents\\\\Github\\\\diff-MoE/diff-MoE'",
     "output_type": "error",
     "traceback": [
      "\u001b[1;31m---------------------------------------------------------------------------\u001b[0m",
      "\u001b[1;31mFileNotFoundError\u001b[0m                         Traceback (most recent call last)",
      "Cell \u001b[1;32mIn[34], line 4\u001b[0m\n\u001b[0;32m      1\u001b[0m \u001b[38;5;66;03m# 修改当前工作目录\u001b[39;00m\n\u001b[0;32m      2\u001b[0m \u001b[38;5;28;01mimport\u001b[39;00m \u001b[38;5;21;01mos\u001b[39;00m\n\u001b[1;32m----> 4\u001b[0m \u001b[43mos\u001b[49m\u001b[38;5;241;43m.\u001b[39;49m\u001b[43mchdir\u001b[49m\u001b[43m(\u001b[49m\u001b[43mos\u001b[49m\u001b[38;5;241;43m.\u001b[39;49m\u001b[43mgetcwd\u001b[49m\u001b[43m(\u001b[49m\u001b[43m)\u001b[49m\u001b[38;5;241;43m+\u001b[39;49m\u001b[38;5;124;43m'\u001b[39;49m\u001b[38;5;124;43m/diff-MoE\u001b[39;49m\u001b[38;5;124;43m'\u001b[39;49m\u001b[43m)\u001b[49m\n",
      "\u001b[1;31mFileNotFoundError\u001b[0m: [WinError 2] 系统找不到指定的文件。: 'C:\\\\Users\\\\Administrator\\\\Documents\\\\Github\\\\diff-MoE/diff-MoE'"
     ]
    }
   ],
   "source": [
    "# 修改当前工作目录\n",
    "import os\n",
    " \n",
    "os.chdir(os.getcwd()+'/diff-MoE')\n"
   ]
  },
  {
   "cell_type": "code",
   "execution_count": 37,
   "id": "2e4ffd52-1f90-425a-8953-661eb9b6dae4",
   "metadata": {},
   "outputs": [
    {
     "ename": "ImportError",
     "evalue": "cannot import name 'EarlyStopping' from 'train' (unknown location)",
     "output_type": "error",
     "traceback": [
      "\u001b[1;31m---------------------------------------------------------------------------\u001b[0m",
      "\u001b[1;31mImportError\u001b[0m                               Traceback (most recent call last)",
      "Cell \u001b[1;32mIn[37], line 8\u001b[0m\n\u001b[0;32m      6\u001b[0m \u001b[38;5;28;01mfrom\u001b[39;00m \u001b[38;5;21;01mdata_loader\u001b[39;00m \u001b[38;5;28;01mimport\u001b[39;00m cifar10_label_to_text, get_data_loaders, label_to_text\n\u001b[0;32m      7\u001b[0m \u001b[38;5;28;01mfrom\u001b[39;00m \u001b[38;5;21;01mmodel\u001b[39;00m \u001b[38;5;28;01mimport\u001b[39;00m DualTowerModel\n\u001b[1;32m----> 8\u001b[0m \u001b[38;5;28;01mfrom\u001b[39;00m \u001b[38;5;21;01mtrain\u001b[39;00m \u001b[38;5;28;01mimport\u001b[39;00m train, EarlyStopping, WarmupLinearScheduler\n\u001b[0;32m      9\u001b[0m \u001b[38;5;28;01mfrom\u001b[39;00m \u001b[38;5;21;01mtest_utils\u001b[39;00m \u001b[38;5;28;01mimport\u001b[39;00m (\n\u001b[0;32m     10\u001b[0m     test,\n\u001b[0;32m     11\u001b[0m     visualize_predictions,\n\u001b[0;32m     12\u001b[0m     visualize_expert_attention\n\u001b[0;32m     13\u001b[0m )\n",
      "\u001b[1;31mImportError\u001b[0m: cannot import name 'EarlyStopping' from 'train' (unknown location)"
     ]
    }
   ],
   "source": [
    "import random\n",
    "import numpy as np\n",
    "import torch\n",
    "import torch.optim as optim\n",
    "import import_ipynb\n",
    "from data_loader import cifar10_label_to_text, get_data_loaders, label_to_text\n",
    "from model import DualTowerModel\n",
    "from train import train, EarlyStopping, WarmupLinearScheduler\n",
    "from test_utils import (\n",
    "    test,\n",
    "    visualize_predictions,\n",
    "    visualize_expert_attention\n",
    ")"
   ]
  },
  {
   "cell_type": "code",
   "execution_count": 28,
   "id": "9d53d011-b11c-4ed0-9db4-fe38037f7132",
   "metadata": {},
   "outputs": [],
   "source": [
    "def set_seed(seed):\n",
    "    torch.manual_seed(seed)\n",
    "    torch.cuda.manual_seed_all(seed)\n",
    "    np.random.seed(seed)\n",
    "    random.seed(seed)\n",
    "    torch.backends.cudnn.deterministic = True\n",
    "    torch.backends.cudnn.benchmark = False"
   ]
  },
  {
   "cell_type": "code",
   "execution_count": 31,
   "id": "96c9c75b",
   "metadata": {
    "scrolled": true
   },
   "outputs": [],
   "source": [
    "def main():\n",
    "    # 设置随机种子\n",
    "    set_seed(42)\n",
    "\n",
    "    # 设置超参数\n",
    "    epochs = 100\n",
    "    batch_size = 64\n",
    "    lr = 0.001\n",
    "    vocab_size = 30522\n",
    "    save_path = \"best_model.pth\"\n",
    "    warmup_epochs = 5\n",
    "    patience = 7\n",
    "    visualize = True\n",
    "\n",
    "    device = torch.device(\"cuda\" if torch.cuda.is_available() else \"cpu\")\n",
    "\n",
    "    # 初始化模型\n",
    "    model = DualTowerModel(vocab_size=vocab_size).to(device)\n",
    "\n",
    "    # 定义优化器\n",
    "    optimizer = optim.AdamW(\n",
    "        model.parameters(),\n",
    "        lr=lr,\n",
    "        weight_decay=0.01,\n",
    "        betas=(0.9, 0.999)\n",
    "    )\n",
    "\n",
    "    # 加载数据集\n",
    "    (fashion_train_loader, fashion_test_loader), (cifar_train_loader, cifar_test_loader) = get_data_loaders(batch_size)\n",
    "    \n",
    "    # 选择数据集\n",
    "    print(\"请选择要使用的数据集：\")\n",
    "    print(\"1. CIFAR10\")\n",
    "    print(\"2. FashionMNIST\")\n",
    "    choice = input(\"请输入选项（1或2）：\")\n",
    "    \n",
    "    if choice == \"1\":\n",
    "        print(\"您选择了CIFAR10数据集\")\n",
    "        train_loader = cifar_train_loader\n",
    "        val_loader = cifar_test_loader\n",
    "        label_to_text_map = cifar10_label_to_text\n",
    "    elif choice == \"2\":\n",
    "        print(\"您选择了FashionMNIST数据集\")\n",
    "        train_loader = fashion_train_loader\n",
    "        val_loader = fashion_test_loader\n",
    "        label_to_text_map = label_to_text\n",
    "    else:\n",
    "        print(\"无效的选择，默认使用FashionMNIST数据集\")\n",
    "        train_loader = fashion_train_loader\n",
    "        val_loader = fashion_test_loader\n",
    "        label_to_text_map = label_to_text\n",
    "\n",
    "    # 训练模型\n",
    "    train(\n",
    "        model=model,\n",
    "        train_loader=train_loader,\n",
    "        val_loader=val_loader,\n",
    "        optimizer=optimizer,\n",
    "        device=device,\n",
    "        num_epochs=epochs,\n",
    "        save_path=save_path,\n",
    "        patience=patience,\n",
    "        warmup_epochs=warmup_epochs\n",
    "    )\n",
    "\n",
    "    # 加载最佳模型\n",
    "    model.load_state_dict(torch.load(save_path))\n",
    "    \n",
    "    # 测试模型\n",
    "    test(model, val_loader, device, label_to_text_map)\n",
    "\n",
    "    # 可视化预测结果\n",
    "    if visualize:\n",
    "        visualize_predictions(model, val_loader, device, label_to_text_map)\n",
    "        visualize_expert_attention(model, val_loader, device)"
   ]
  },
  {
   "cell_type": "code",
   "execution_count": 30,
   "id": "478b5cc9-0ffe-4b07-b086-37bd5ddd5b67",
   "metadata": {},
   "outputs": [
    {
     "name": "stdout",
     "output_type": "stream",
     "text": [
      "Files already downloaded and verified\n",
      "Files already downloaded and verified\n",
      "请选择要使用的数据集：\n",
      "1. CIFAR10\n",
      "2. FashionMNIST\n",
      "您选择了FashionMNIST数据集\n"
     ]
    },
    {
     "ename": "TypeError",
     "evalue": "train() got an unexpected keyword argument 'patience'",
     "output_type": "error",
     "traceback": [
      "\u001b[1;31m---------------------------------------------------------------------------\u001b[0m",
      "\u001b[1;31mTypeError\u001b[0m                                 Traceback (most recent call last)",
      "Cell \u001b[1;32mIn[30], line 2\u001b[0m\n\u001b[0;32m      1\u001b[0m \u001b[38;5;28;01mif\u001b[39;00m \u001b[38;5;18m__name__\u001b[39m \u001b[38;5;241m==\u001b[39m \u001b[38;5;124m\"\u001b[39m\u001b[38;5;124m__main__\u001b[39m\u001b[38;5;124m\"\u001b[39m:\n\u001b[1;32m----> 2\u001b[0m     \u001b[43mmain\u001b[49m\u001b[43m(\u001b[49m\u001b[43m)\u001b[49m\n",
      "Cell \u001b[1;32mIn[29], line 49\u001b[0m, in \u001b[0;36mmain\u001b[1;34m()\u001b[0m\n\u001b[0;32m     46\u001b[0m     label_to_text_map \u001b[38;5;241m=\u001b[39m label_to_text\n\u001b[0;32m     48\u001b[0m \u001b[38;5;66;03m# 训练模型\u001b[39;00m\n\u001b[1;32m---> 49\u001b[0m \u001b[43mtrain\u001b[49m\u001b[43m(\u001b[49m\u001b[43mmodel\u001b[49m\u001b[43m,\u001b[49m\u001b[43m \u001b[49m\u001b[43mtrain_loader\u001b[49m\u001b[43m,\u001b[49m\u001b[43m \u001b[49m\u001b[43mval_loader\u001b[49m\u001b[43m,\u001b[49m\u001b[43m \u001b[49m\u001b[43moptimizer\u001b[49m\u001b[43m,\u001b[49m\u001b[43m \u001b[49m\u001b[43mdevice\u001b[49m\u001b[43m,\u001b[49m\u001b[43m \u001b[49m\u001b[43mepochs\u001b[49m\u001b[43m,\u001b[49m\u001b[43m \u001b[49m\u001b[43msave_path\u001b[49m\u001b[43m,\u001b[49m\u001b[43m \u001b[49m\n\u001b[0;32m     50\u001b[0m \u001b[43m      \u001b[49m\u001b[43mpatience\u001b[49m\u001b[38;5;241;43m=\u001b[39;49m\u001b[43mpatience\u001b[49m\u001b[43m,\u001b[49m\u001b[43m \u001b[49m\u001b[43mwarmup_epochs\u001b[49m\u001b[38;5;241;43m=\u001b[39;49m\u001b[43mwarmup_epochs\u001b[49m\u001b[43m)\u001b[49m\n\u001b[0;32m     52\u001b[0m \u001b[38;5;66;03m# 加载最佳模型\u001b[39;00m\n\u001b[0;32m     53\u001b[0m model\u001b[38;5;241m.\u001b[39mload_state_dict(torch\u001b[38;5;241m.\u001b[39mload(save_path))\n",
      "\u001b[1;31mTypeError\u001b[0m: train() got an unexpected keyword argument 'patience'"
     ]
    }
   ],
   "source": [
    "\n",
    "\n",
    "\n",
    "if __name__ == \"__main__\":\n",
    "    main()"
   ]
  },
  {
   "cell_type": "code",
   "execution_count": null,
   "id": "51042ba4-e2e2-4fce-bde7-732ff1360399",
   "metadata": {},
   "outputs": [],
   "source": []
  }
 ],
 "metadata": {
  "kernelspec": {
   "display_name": "ipynb",
   "language": "python",
   "name": "ipynb"
  },
  "language_info": {
   "codemirror_mode": {
    "name": "ipython",
    "version": 3
   },
   "file_extension": ".py",
   "mimetype": "text/x-python",
   "name": "python",
   "nbconvert_exporter": "python",
   "pygments_lexer": "ipython3",
   "version": "3.9.20"
  }
 },
 "nbformat": 4,
 "nbformat_minor": 5
}
