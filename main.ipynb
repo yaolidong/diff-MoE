{
 "cells": [
  {
   "cell_type": "code",
   "execution_count": 5,
   "id": "2e4ffd52-1f90-425a-8953-661eb9b6dae4",
   "metadata": {},
   "outputs": [],
   "source": [
    "import random\n",
    "\n",
    "import import_ipynb\n",
    "import numpy as np\n",
    "import torch\n",
    "import torch.optim as optim\n",
    "from data_loader import cifar10_label_to_text, get_data_loaders, label_to_text\n",
    "from model import DualTowerModel\n",
    "from train import train\n",
    "from test_utils import (\n",
    "    test,\n",
    "    visualize_predictions,\n",
    ")  # 与python标准库中的test模块冲突，故改名"
   ]
  },
  {
   "cell_type": "code",
   "execution_count": 6,
   "id": "9d53d011-b11c-4ed0-9db4-fe38037f7132",
   "metadata": {},
   "outputs": [],
   "source": [
    "def set_seed(seed):\n",
    "    torch.manual_seed(seed)\n",
    "    torch.cuda.manual_seed_all(seed)\n",
    "    np.random.seed(seed)\n",
    "    random.seed(seed)\n",
    "    torch.backends.cudnn.deterministic = True\n",
    "    torch.backends.cudnn.benchmark = False"
   ]
  },
  {
   "cell_type": "code",
   "execution_count": 7,
   "id": "96c9c75b",
   "metadata": {
    "scrolled": true
   },
   "outputs": [],
   "source": [
    "def main():\n",
    "    # 设置随机种子\n",
    "    set_seed(42)  # 您可以选择任何整数作为种子\n",
    "\n",
    "    # 设置超参数\n",
    "    epochs = 1\n",
    "    batch_size = 64\n",
    "    lr = 0.001\n",
    "    vocab_size = 30522\n",
    "    save_path = \"model.pth\"\n",
    "    visualize = True  # 是否可视化预测结果\n",
    "\n",
    "    device = torch.device(\"cuda\" if torch.cuda.is_available() else \"cpu\")\n",
    "\n",
    "    # 初始化模型\n",
    "    model = DualTowerModel(vocab_size=vocab_size).to(device)\n",
    "\n",
    "    # 定义优化器\n",
    "    optimizer = optim.Adam(model.parameters(), lr=lr)\n",
    "\n",
    "    # 加载数据集\n",
    "    (fashion_train_loader, fashion_test_loader), (\n",
    "        cifar_train_loader,\n",
    "        cifar_test_loader,\n",
    "    ) = get_data_loaders(batch_size)\n",
    "    # 选择数据集\n",
    "    print(\"请选择要使用的数据集：\")\n",
    "    print(\"1. CIFAR10\")\n",
    "    print(\"2. FashionMNIST\")\n",
    "    choice = input(\"请输入选项（1或2）：\")\n",
    "    if choice == \"1\":\n",
    "        print(\"您选择了CIFAR10数据集\")\n",
    "        train_loader = cifar_train_loader\n",
    "        test_loader = cifar_test_loader\n",
    "        label_to_text_map = cifar10_label_to_text\n",
    "    elif choice == \"2\":\n",
    "        print(\"您选择了FashionMNIST数据集\")\n",
    "        train_loader = fashion_train_loader\n",
    "        test_loader = fashion_test_loader\n",
    "        label_to_text_map = label_to_text\n",
    "    else:\n",
    "        print(\"无效的选择，默认使用FashionMNIST数据集\")\n",
    "        train_loader = fashion_train_loader\n",
    "        test_loader = fashion_test_loader\n",
    "        label_to_text_map = label_to_text\n",
    "        # 训练模型\n",
    "    train(model, train_loader, optimizer, device, epochs, save_path)\n",
    "\n",
    "    # 测试模型\n",
    "    test(model, test_loader, device, label_to_text_map)\n",
    "\n",
    "    # 可视化预测结果\n",
    "    if visualize:\n",
    "        visualize_predictions(model, test_loader, device, label_to_text_map)"
   ]
  },
  {
   "cell_type": "code",
   "execution_count": 9,
   "id": "478b5cc9-0ffe-4b07-b086-37bd5ddd5b67",
   "metadata": {},
   "outputs": [
    {
     "name": "stdout",
     "output_type": "stream",
     "text": [
      "Files already downloaded and verified\n",
      "Files already downloaded and verified\n",
      "请选择要使用的数据集：\n",
      "1. CIFAR10\n",
      "2. FashionMNIST\n"
     ]
    },
    {
     "name": "stdin",
     "output_type": "stream",
     "text": [
      "请输入选项（1或2）： 2\n"
     ]
    },
    {
     "name": "stdout",
     "output_type": "stream",
     "text": [
      "您选择了FashionMNIST数据集\n"
     ]
    },
    {
     "name": "stderr",
     "output_type": "stream",
     "text": [
      "\n",
      "poch 1/1: 100%|█| 937/937 [02:08<00:00,  7.32it/s, Loss=1.18, Contrastive Loss=3.62, Image Classification Loss=0.768, "
     ]
    },
    {
     "name": "stdout",
     "output_type": "stream",
     "text": [
      "Epoch 1/1, Average Loss: 1.4536\n",
      "训练完成。模型已保存。\n",
      "损失曲线已保存为 'loss_curve.png'\n",
      "\n",
      "预测结果:\n",
      "Class 0: 0.1381\n",
      "Class 1: 0.1165\n",
      "Class 2: 0.0932\n",
      "Class 3: 0.1446\n",
      "Class 4: 0.0571\n",
      "Class 5: 0.0920\n",
      "Class 6: 0.0528\n",
      "Class 7: 0.0516\n",
      "Class 8: 0.1420\n",
      "Class 9: 0.1121\n",
      "预测: Ankle boot, 实际: Ankle boot\n",
      "预测: T-shirt/top, 实际: Pullover\n",
      "预测: Trouser, 实际: Trouser\n",
      "预测: Trouser, 实际: Trouser\n",
      "预测: Pullover, 实际: Shirt\n",
      "预测: Trouser, 实际: Trouser\n",
      "预测: Trouser, 实际: Coat\n",
      "预测: Shirt, 实际: Shirt\n",
      "预测: Sandal, 实际: Sandal\n",
      "预测: Sneaker, 实际: Sneaker\n",
      "\n",
      "准确率: 0.6497\n",
      "专家注意力可视化结果已保存\n",
      "可视化结果已保存到 'predictions.png'\n"
     ]
    }
   ],
   "source": [
    "if __name__ == \"__main__\":\n",
    "    main()"
   ]
  },
  {
   "cell_type": "code",
   "execution_count": null,
   "id": "51042ba4-e2e2-4fce-bde7-732ff1360399",
   "metadata": {},
   "outputs": [],
   "source": []
  }
 ],
 "metadata": {
  "kernelspec": {
   "display_name": "ipynb",
   "language": "python",
   "name": "ipynb"
  },
  "language_info": {
   "codemirror_mode": {
    "name": "ipython",
    "version": 3
   },
   "file_extension": ".py",
   "mimetype": "text/x-python",
   "name": "python",
   "nbconvert_exporter": "python",
   "pygments_lexer": "ipython3",
   "version": "3.9.20"
  }
 },
 "nbformat": 4,
 "nbformat_minor": 5
}
